{
  "metadata": {
    "language_info": {
      "codemirror_mode": {
        "name": "python",
        "version": 3
      },
      "file_extension": ".py",
      "mimetype": "text/x-python",
      "name": "python",
      "nbconvert_exporter": "python",
      "pygments_lexer": "ipython3",
      "version": "3.8"
    },
    "kernelspec": {
      "name": "python",
      "display_name": "Python (Pyodide)",
      "language": "python"
    }
  },
  "nbformat_minor": 4,
  "nbformat": 4,
  "cells": [
    {
      "cell_type": "markdown",
      "source": "## Example\n\nFind the solution to the following system of linear equations:\n\n\\begin{align*}\nx+y+z=2\\\\\n6x−4y+5z=31\\\\\n5x+2y+2z=13\n\\end{align*}\n",
      "metadata": {}
    },
    {
      "cell_type": "code",
      "source": "import numpy as np\nfrom upper_triangle import solve_equation_system\n\n\nA = np.array([[1.0, 1.0, 1.0], [6.0, -4.0, 5.0], [5.0, 2.0, 2.0]])\nb = np.array([2.0, 31.0, 13.0])\n\nx = solve_equation_system(A, b)\nprint(x)\n",
      "metadata": {
        "trusted": true
      },
      "execution_count": 2,
      "outputs": [
        {
          "name": "stdout",
          "text": "[ 3. -2.  1.]\n",
          "output_type": "stream"
        }
      ]
    }
  ]
}