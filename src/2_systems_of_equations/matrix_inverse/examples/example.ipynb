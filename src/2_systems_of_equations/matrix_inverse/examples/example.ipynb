{
  "metadata": {
    "language_info": {
      "codemirror_mode": {
        "name": "python",
        "version": 3
      },
      "file_extension": ".py",
      "mimetype": "text/x-python",
      "name": "python",
      "nbconvert_exporter": "python",
      "pygments_lexer": "ipython3",
      "version": "3.8"
    },
    "kernelspec": {
      "name": "python",
      "display_name": "Python (Pyodide)",
      "language": "python"
    }
  },
  "nbformat_minor": 4,
  "nbformat": 4,
  "cells": [
    {
      "cell_type": "markdown",
      "source": "## Example\n\nFind the solution to the following system of linear equations:\n\n\\begin{align*}\nx+y+z=2\\\\\n6x−4y+5z=31\\\\\n5x+2y+2z=13\n\\end{align*}\n",
      "metadata": {}
    },
    {
      "cell_type": "code",
      "source": "import numpy as np\n\nA = np.array([[1., 1., 1.],\n                 [6., -4., 5.],\n                 [5., 2., 2.]])\nb = np.array([2., 31., 13.])\n\nif np.isclose(np.linalg.det(A), 0):\n    raise ValueError(\"Matrix A is singular and therefore cannot be inverted.\")\n\nx = np.dot(np.linalg.inv(A),b)\nprint(x)",
      "metadata": {
        "trusted": true
      },
      "execution_count": 9,
      "outputs": [
        {
          "name": "stdout",
          "text": "[ 3. -2.  1.]\n",
          "output_type": "stream"
        }
      ]
    }
  ]
}